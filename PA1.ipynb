{
 "cells": [
  {
   "cell_type": "markdown",
   "id": "fc0cf500",
   "metadata": {},
   "source": [
    "Alphabet Soup Problem"
   ]
  },
  {
   "cell_type": "code",
   "execution_count": 2,
   "id": "79e3b600",
   "metadata": {},
   "outputs": [
    {
     "name": "stdout",
     "output_type": "stream",
     "text": [
      "ehllo\n",
      "acehkr\n"
     ]
    }
   ],
   "source": [
    "def alphabet_soup(word):\n",
    "    # Create a list of characters from the string\n",
    "    char_list = list(word)\n",
    "    # Sort the list of characters\n",
    "    char_list.sort()\n",
    "    # Join the sorted list back into a string\n",
    "    return ''.join(char_list)\n",
    "\n",
    "# Test cases\n",
    "print(alphabet_soup(\"hello\"))\n",
    "print(alphabet_soup(\"hacker\"))"
   ]
  },
  {
   "cell_type": "markdown",
   "id": "dce42787",
   "metadata": {},
   "source": [
    "Emoticon Problem"
   ]
  },
  {
   "cell_type": "code",
   "execution_count": 3,
   "id": "c1f15640",
   "metadata": {},
   "outputs": [
    {
     "name": "stdout",
     "output_type": "stream",
     "text": [
      "Make me :)\n",
      "A big :D\n",
      "I'm feeling :(\n",
      "I am >:(\n"
     ]
    }
   ],
   "source": [
    "def emotify(s):\n",
    "    # Dictionary mapping words to emoticons\n",
    "    emoticons = {\n",
    "        \"smile\": \":)\",\n",
    "        \"grin\": \":D\",\n",
    "        \"sad\": \":(\",\n",
    "        \"mad\": \">:(\"\n",
    "    }\n",
    "    # Replace words in the sentence\n",
    "    words = s.split()\n",
    "    for i in range(len(words)):\n",
    "        if words[i] in emoticons:\n",
    "            words[i] = emoticons[words[i]]\n",
    "    return ' '.join(words)\n",
    "\n",
    "# Test cases\n",
    "print(emotify(\"Make me smile\"))\n",
    "print(emotify(\"A big grin\"))\n",
    "print(emotify(\"I'm feeling sad\"))\n",
    "print(emotify(\"I am mad\"))\n"
   ]
  },
  {
   "cell_type": "markdown",
   "id": "43b141eb",
   "metadata": {},
   "source": [
    "Unpacking List Problem"
   ]
  },
  {
   "cell_type": "code",
   "execution_count": 4,
   "id": "7a635a1e",
   "metadata": {},
   "outputs": [
    {
     "name": "stdout",
     "output_type": "stream",
     "text": [
      "first: 1 middle: [2, 3, 4, 5] last: 6\n"
     ]
    }
   ],
   "source": [
    "listy = [1, 2, 3, 4, 5, 6]\n",
    "\n",
    "# Unpacking\n",
    "first, *middle, last = listy\n",
    "\n",
    "# Print results\n",
    "print(\"first:\", first, \"middle:\", middle, \"last:\", last)"
   ]
  }
 ],
 "metadata": {
  "kernelspec": {
   "display_name": "Python 3",
   "language": "python",
   "name": "python3"
  },
  "language_info": {
   "codemirror_mode": {
    "name": "ipython",
    "version": 3
   },
   "file_extension": ".py",
   "mimetype": "text/x-python",
   "name": "python",
   "nbconvert_exporter": "python",
   "pygments_lexer": "ipython3",
   "version": "3.11.4"
  }
 },
 "nbformat": 4,
 "nbformat_minor": 5
}
